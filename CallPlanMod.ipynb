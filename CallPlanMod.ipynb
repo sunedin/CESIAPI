{
 "cells": [
  {
   "cell_type": "code",
   "execution_count": 19,
   "metadata": {},
   "outputs": [],
   "source": [
    "# import interface package\n",
    "from CESIAPI.interface import MOD"
   ]
  },
  {
   "cell_type": "code",
   "execution_count": 20,
   "metadata": {},
   "outputs": [],
   "source": [
    "# creat a interface object and specify the language teh model used\n",
    "model = MOD(lang='Julia')"
   ]
  },
  {
   "cell_type": "code",
   "execution_count": 21,
   "metadata": {},
   "outputs": [
    {
     "name": "stdout",
     "output_type": "stream",
     "text": [
      "<PyCall.jlwrap Min cx + θ\n",
      "Subject to\n",
      " cx - 86340 x_inv[1] - 21000 x_inv[2] - 35110 x_inv[3] - 15800 x_inv[4] - 191230 x_inv[5] == 0\n",
      " 0 <= x_inv[1] <= 35000\n",
      " 0 <= x_inv[2] <= 35000\n",
      " 0 <= x_inv[3] <= 35000\n",
      " 0 <= x_inv[4] <= 5000\n",
      " 0 <= x_inv[5] <= 7000\n",
      " cx\n",
      " θ >= 0\n",
      ">\n"
     ]
    }
   ],
   "source": [
    "# read in the ample model\n",
    "model.newmodel(modelfile=\"planningmod.jl\",  jumpmod_name='rmp')"
   ]
  },
  {
   "cell_type": "code",
   "execution_count": 22,
   "metadata": {},
   "outputs": [
    {
     "data": {
      "text/plain": [
       "'Optimal'"
      ]
     },
     "execution_count": 22,
     "metadata": {},
     "output_type": "execute_result"
    }
   ],
   "source": [
    "# solve the model\n",
    "model.solve()"
   ]
  },
  {
   "cell_type": "code",
   "execution_count": 23,
   "metadata": {},
   "outputs": [
    {
     "data": {
      "text/plain": [
       "0.0"
      ]
     },
     "execution_count": 23,
     "metadata": {},
     "output_type": "execute_result"
    }
   ],
   "source": [
    "# get the objective function value\n",
    "model.getObjectiveValue()"
   ]
  },
  {
   "cell_type": "code",
   "execution_count": 24,
   "metadata": {},
   "outputs": [
    {
     "data": {
      "text/plain": [
       "array([0., 0., 0., 0., 0.])"
      ]
     },
     "execution_count": 24,
     "metadata": {},
     "output_type": "execute_result"
    }
   ],
   "source": [
    "# get value of variable 'x_inv' of the jump model 'rmp'\n",
    "model.getValue('rmp[:x_inv][:]')"
   ]
  },
  {
   "cell_type": "code",
   "execution_count": 25,
   "metadata": {},
   "outputs": [
    {
     "data": {
      "text/plain": [
       "0.0"
      ]
     },
     "execution_count": 25,
     "metadata": {},
     "output_type": "execute_result"
    }
   ],
   "source": [
    "# get value of variable 'cx' of the jump model 'rmp'\n",
    "model.getValue('rmp[:cx]')"
   ]
  },
  {
   "cell_type": "markdown",
   "metadata": {},
   "source": [
    "## Note:\n",
    "\n",
    "For JuMP, in oder to get values of JumP variables and constraints, use above syntax which involves a bit raw julia statement.\n"
   ]
  }
 ],
 "metadata": {
  "kernelspec": {
   "display_name": "PyCharm (CESIAPI)",
   "language": "python",
   "name": "pycharm-2197ee00"
  },
  "language_info": {
   "codemirror_mode": {
    "name": "ipython",
    "version": 3
   },
   "file_extension": ".py",
   "mimetype": "text/x-python",
   "name": "python",
   "nbconvert_exporter": "python",
   "pygments_lexer": "ipython3",
   "version": "3.6.10"
  }
 },
 "nbformat": 4,
 "nbformat_minor": 4
}