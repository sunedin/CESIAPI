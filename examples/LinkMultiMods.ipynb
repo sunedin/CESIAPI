{
 "cells": [
  {
   "cell_type": "code",
   "execution_count": 1,
   "metadata": {},
   "outputs": [],
   "source": [
    "# import interface package and function for mapping objects between models\n",
    "from CESIAPI.interface import MOD\n",
    "from CESIAPI.MappingPassOver import CrossMapping"
   ]
  },
  {
   "cell_type": "markdown",
   "metadata": {},
   "source": [
    "## model #1: planningmod\n",
    "\n",
    "A power system investment model to determine the optimal installed capacity for each generator.\n",
    "\n",
    "## model #2 operationalModel\n",
    "\n",
    "A power system opteration model to determine the ouput of given generators to obtain the least overall operational cost.\n",
    "\n",
    "## linking model #1 with model #2\n",
    "\n",
    "1. run model #1, the capacities determined by planning model #1 will feed into operational model #2 as inputs\n",
    "\n",
    "2. run model #2, valiate the performance of proposed generator mix. if any violaton of operational constraint occurs, then the degree of violaton will feed back to planning model as addional inputs (formulated using Benders decomposition) for its next run.\n",
    "\n",
    "3. repeat step 1 and 2 until the two models convege.\n",
    "\n"
   ]
  },
  {
   "cell_type": "code",
   "execution_count": 2,
   "metadata": {},
   "outputs": [
    {
     "name": "stdout",
     "output_type": "stream",
     "text": [
      "<PyCall.jlwrap Min cx + θ\n",
      "Subject to\n",
      " cx - 86340 x_inv[1] - 21000 x_inv[2] - 35110 x_inv[3] - 15800 x_inv[4] - 191230 x_inv[5] == 0\n",
      " 0 <= x_inv[1] <= 35000\n",
      " 0 <= x_inv[2] <= 35000\n",
      " 0 <= x_inv[3] <= 35000\n",
      " 0 <= x_inv[4] <= 5000\n",
      " 0 <= x_inv[5] <= 7000\n",
      " cx\n",
      " θ >= 0\n",
      ">\n"
     ]
    }
   ],
   "source": [
    "# call planning model\n",
    "planmod = MOD(lang='Julia')\n",
    "planmod.newmodel(modelfile=\"planningmod.jl\",jumpmod_name='rmp')"
   ]
  },
  {
   "cell_type": "code",
   "execution_count": 3,
   "metadata": {},
   "outputs": [
    {
     "name": "stdout",
     "output_type": "stream",
     "text": [
      "SUBPROBLEM\n"
     ]
    }
   ],
   "source": [
    "# call operation model\n",
    "opermod = MOD(lang='AMPL')\n",
    "opermod.newmodel(modelfile=\"OperationalModel.run\")"
   ]
  },
  {
   "cell_type": "code",
   "execution_count": 5,
   "metadata": {},
   "outputs": [],
   "source": [
    "# declare the indexing sets of exchange items\n",
    "# index_set_opermod = ['Gcoal', 'Gocgt', 'Gccgt', 'Gnucl', 'Gdies']\n",
    "# index_set_planmod =  ['coal', 'ocgt', 'ccgt', 'diesel', 'nuclear']\n",
    "\n",
    "mapping_opermod2planmod = {'Gcoal': 'coal',\n",
    "                             'Gocgt': 'ocgt',\n",
    "                             'Gccgt': 'ccgt',\n",
    "                             'Gnucl': 'nuclear',\n",
    "                             'Gdies': 'diesel'}\n",
    "\n",
    "mapping_planmod2opermod = {'coal': 'Gcoal',\n",
    "                            'ocgt': 'Gocgt',\n",
    "                            'ccgt': 'Gccgt',\n",
    "                            'diesel': 'Gdies',\n",
    "                            'nuclear': 'Gnucl'}"
   ]
  },
  {
   "cell_type": "code",
   "execution_count": 4,
   "metadata": {},
   "outputs": [],
   "source": [
    "ϵ = .001 # set the stop threshold value for iteration"
   ]
  },
  {
   "cell_type": "code",
   "execution_count": null,
   "metadata": {},
   "outputs": [],
   "source": [
    "for i in list(range(30)):\n",
    "    \n",
    "    # solve planning model and get values of the exchange items\n",
    "    planmod.solve()\n",
    "    L = planmod.getObjectiveValue()\n",
    "    x_fix = planmod.getValue('rmp[:x_inv][:]')\n",
    "\n",
    "    # re-order the exchange items acording to the receiving model (operational model)\n",
    "    # and pass over\n",
    "    x_fix = CrossMapping(x_fix, mapping_planmod2opermod)\n",
    "    opermod.getParam(\"pG_ub\").setValues(x_fix)\n",
    "    \n",
    "    # solve operational mode and get values of the linking items\n",
    "    opermod.solve()\n",
    "    θ = opermod.getValue(\"oper\")\n",
    "#     θ = opermod.getObjectiveValue()\n",
    "    λ = [c[1].dual() for c in opermod.getConstraint(\"lambda_pG\")] #get constraint dual value into a list\n",
    "    λ = CrossMapping(λ, mapping_opermod2planmod)\n",
    "\n",
    "    # add addtional constraint (cut) into planning model\n",
    "    # note: the bender algothrim is implemented in Julia, so involve some JuMP expression\n",
    "    U = planmod.getValue('rmp[:cx]') + θ\n",
    "    planmod.jumpworkspace.x_fix = x_fix # put this value back into Julia\n",
    "    planmod.jumpworkspace.θ = θ\n",
    "    planmod.jumpworkspace.λ = λ\n",
    "    planmod.eval('@constraint(rmp,rmp[:θ] >= θ + sum(λ[i] * (rmp[:x_inv][i] - x_fix[i]) for i in 1:5))') # JuMP expression\n",
    "\n",
    "    # check the gap, break if converge\n",
    "    Δ = (U - L) / U * 100\n",
    "    if Δ <= ϵ:\n",
    "        break"
   ]
  },
  {
   "cell_type": "code",
   "execution_count": 7,
   "metadata": {},
   "outputs": [
    {
     "name": "stdout",
     "output_type": "stream",
     "text": [
      " \n",
      "---------------------------------------------------------------------\n",
      "Investment Decisions\n",
      "coal    -> 0.0 GW\n",
      "ocgt    -> 35.0 GW\n",
      "ccgt    -> 12.0 GW\n",
      "diesel  -> 5.0 GW\n",
      "nuclear -> 0.0 GW\n",
      " \n",
      "Cost for investment -> 1220 m£\n",
      "Cost for operation  -> 6176 m£\n"
     ]
    }
   ],
   "source": [
    "# print the results\n",
    "print(\" \")\n",
    "print(\"---------------------------------------------------------------------\")\n",
    "print(\"Investment Decisions\")\n",
    "print(\"coal    -> {} GW\".format(round(x_fix[0] / 1000)))\n",
    "print(\"ocgt    -> {} GW\".format(round(x_fix[1] / 1000)))\n",
    "print(\"ccgt    -> {} GW\".format(round(x_fix[2] / 1000)))\n",
    "print(\"diesel  -> {} GW\".format(round(x_fix[3] / 1000)))\n",
    "print(\"nuclear -> {} GW\".format(round(x_fix[4] / 1000)))\n",
    "print(\" \")\n",
    "\n",
    "print(\"Cost for investment -> {} m£\".format(round(planmod.getValue('rmp[:cx]') / 1e6)))\n",
    "print(\"Cost for operation  -> {} m£\".format(round(θ / 1e6)))"
   ]
  }
 ],
 "metadata": {
  "kernelspec": {
   "display_name": "PyCharm (workplace)",
   "language": "python",
   "name": "python(workplace)"
  },
  "language_info": {
   "codemirror_mode": {
    "name": "ipython",
    "version": 3
   },
   "file_extension": ".py",
   "mimetype": "text/x-python",
   "name": "python",
   "nbconvert_exporter": "python",
   "pygments_lexer": "ipython3",
   "version": "3.6.10"
  }
 },
 "nbformat": 4,
 "nbformat_minor": 4
}
