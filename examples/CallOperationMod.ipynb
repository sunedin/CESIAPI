{
 "cells": [
  {
   "cell_type": "code",
   "execution_count": 1,
   "metadata": {},
   "outputs": [],
   "source": [
    "# pip install git+https://github.com/sunedin/CESIAPI"
   ]
  },
  {
   "cell_type": "code",
   "execution_count": 2,
   "metadata": {
    "scrolled": true
   },
   "outputs": [],
   "source": [
    "# import interface package\n",
    "from CESIAPI.interface import MOD"
   ]
  },
  {
   "cell_type": "markdown",
   "metadata": {},
   "source": [
    "## OperationalModel: \n",
    "a optimisaiton model written in AMPL to minimise the total operational cost of power system over a time period.\n",
    "\n",
    "### objective function\n",
    "minimize operation cost: sum{Cost per per MWh of generation from generator g at time t} + sum{penalty of any load sheding} ;"
   ]
  },
  {
   "cell_type": "code",
   "execution_count": 3,
   "metadata": {},
   "outputs": [],
   "source": [
    "# creat a model object instance and specify the language teh model used\n",
    "model = MOD(lang='AMPL')"
   ]
  },
  {
   "cell_type": "code",
   "execution_count": 4,
   "metadata": {},
   "outputs": [
    {
     "name": "stdout",
     "output_type": "stream",
     "text": [
      "SUBPROBLEM\n"
     ]
    }
   ],
   "source": [
    "# read in the operation model\n",
    "model.newmodel(modelfile=\"OperationalModel.run\")"
   ]
  },
  {
   "cell_type": "code",
   "execution_count": 5,
   "metadata": {},
   "outputs": [
    {
     "name": "stdout",
     "output_type": "stream",
     "text": [
      "['sF', 'sG', 'sT']\n"
     ]
    }
   ],
   "source": [
    "# list all sets\n",
    "model.getSets()"
   ]
  },
  {
   "cell_type": "code",
   "execution_count": 6,
   "metadata": {},
   "outputs": [
    {
     "name": "stdout",
     "output_type": "stream",
     "text": [
      "['Alpha', 'CG', 'Cfuel', 'Dem', 'DiscCost', 'EG', 'VrOM', 'W', 'f', 'pG_ub']\n"
     ]
    }
   ],
   "source": [
    "# list all parameters\n",
    "model.getParams()"
   ]
  },
  {
   "cell_type": "code",
   "execution_count": 7,
   "metadata": {},
   "outputs": [
    {
     "name": "stdout",
     "output_type": "stream",
     "text": [
      "['pG', 'pG_max', 'shed']\n"
     ]
    }
   ],
   "source": [
    "# list all variables\n",
    "model.getVars()"
   ]
  },
  {
   "cell_type": "code",
   "execution_count": 8,
   "metadata": {},
   "outputs": [
    {
     "name": "stdout",
     "output_type": "stream",
     "text": [
      "['balance', 'lambda_pG', 'pG_ub_lim']\n"
     ]
    }
   ],
   "source": [
    "# list all constrains\n",
    "model.getConstraints()"
   ]
  },
  {
   "cell_type": "code",
   "execution_count": 9,
   "metadata": {},
   "outputs": [
    {
     "name": "stdout",
     "output_type": "stream",
     "text": [
      "Gurobi 9.0.0: The license for this version of Gurobi will expire in 6.6 days.\r\n",
      "optimal solution; objective 5340643738\n",
      "730 simplex iterations\n"
     ]
    }
   ],
   "source": [
    "# solve the model\n",
    "model.solve()"
   ]
  },
  {
   "cell_type": "code",
   "execution_count": 10,
   "metadata": {},
   "outputs": [
    {
     "data": {
      "text/plain": [
       "5340.643738127463"
      ]
     },
     "execution_count": 10,
     "metadata": {},
     "output_type": "execute_result"
    }
   ],
   "source": [
    "# get the objective function value\n",
    "model.getObjectiveValue()/1e6"
   ]
  },
  {
   "cell_type": "code",
   "execution_count": 11,
   "metadata": {},
   "outputs": [
    {
     "data": {
      "text/plain": [
       "{'Gccgt': 0.0,\n",
       " 'Gcoal': 34791.08778159658,\n",
       " 'Gdies': 0.0,\n",
       " 'Gnucl': 7000.0,\n",
       " 'Gocgt': 35000.0}"
      ]
     },
     "execution_count": 11,
     "metadata": {},
     "output_type": "execute_result"
    }
   ],
   "source": [
    "# get the value of a parameter\n",
    "model.getParam(\"pG_ub\").getValues().toDict() "
   ]
  },
  {
   "cell_type": "code",
   "execution_count": 12,
   "metadata": {},
   "outputs": [],
   "source": [
    "# change values of a parameter\n",
    "# in this example, double the size of nuclear plant\n",
    "model.getParam('pG_ub').setValues({'Gnucl':14000})"
   ]
  },
  {
   "cell_type": "code",
   "execution_count": 13,
   "metadata": {},
   "outputs": [
    {
     "data": {
      "text/plain": [
       "{'Gccgt': 0.0,\n",
       " 'Gcoal': 34791.08778159658,\n",
       " 'Gdies': 0.0,\n",
       " 'Gnucl': 14000.0,\n",
       " 'Gocgt': 35000.0}"
      ]
     },
     "execution_count": 13,
     "metadata": {},
     "output_type": "execute_result"
    }
   ],
   "source": [
    "model.getParam(\"pG_ub\").getValues().toDict()"
   ]
  },
  {
   "cell_type": "code",
   "execution_count": 16,
   "metadata": {},
   "outputs": [
    {
     "name": "stdout",
     "output_type": "stream",
     "text": [
      "Gurobi 9.0.0: The license for this version of Gurobi will expire in 6.6 days.\r\n",
      "optimal solution; objective 4289484557\n",
      "730 simplex iterations\n"
     ]
    }
   ],
   "source": [
    "# resolve\n",
    "model.solve()"
   ]
  },
  {
   "cell_type": "code",
   "execution_count": 17,
   "metadata": {},
   "outputs": [
    {
     "data": {
      "text/plain": [
       "4289.484556692047"
      ]
     },
     "execution_count": 17,
     "metadata": {},
     "output_type": "execute_result"
    }
   ],
   "source": [
    "# get the new value of the objectivevalue\n",
    "model.getObjectiveValue()/1e6"
   ]
  }
 ],
 "metadata": {
  "kernelspec": {
   "display_name": "PyCharm (workplace)",
   "language": "python",
   "name": "python(workplace)"
  },
  "language_info": {
   "codemirror_mode": {
    "name": "ipython",
    "version": 3
   },
   "file_extension": ".py",
   "mimetype": "text/x-python",
   "name": "python",
   "nbconvert_exporter": "python",
   "pygments_lexer": "ipython3",
   "version": "3.6.10"
  }
 },
 "nbformat": 4,
 "nbformat_minor": 4
}
